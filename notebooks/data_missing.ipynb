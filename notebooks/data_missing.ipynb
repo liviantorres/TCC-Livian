{
 "cells": [
  {
   "cell_type": "code",
   "execution_count": 5,
   "id": "fc192b0a",
   "metadata": {},
   "outputs": [
    {
     "name": "stdout",
     "output_type": "stream",
     "text": [
      "codigo_municipio           0\n",
      "exercicio_orcamento        0\n",
      "codigo_orgao               0\n",
      "codigo_unidade             0\n",
      "codigo_elemento_despesa    0\n",
      "nome_elemento_despesa      0\n",
      "valor_total_fixado         0\n",
      "dtype: int64\n"
     ]
    }
   ],
   "source": [
    "import pandas as pd\n",
    "\n",
    "# Carrega o CSV\n",
    "df = pd.read_csv(\"./despesa_categoria_economica/dados_2013.csv\")\n",
    "\n",
    "# Verifica se há valores faltantes em cada coluna\n",
    "print(df.isnull().sum())\n"
   ]
  }
 ],
 "metadata": {
  "kernelspec": {
   "display_name": "Python 3",
   "language": "python",
   "name": "python3"
  },
  "language_info": {
   "codemirror_mode": {
    "name": "ipython",
    "version": 3
   },
   "file_extension": ".py",
   "mimetype": "text/x-python",
   "name": "python",
   "nbconvert_exporter": "python",
   "pygments_lexer": "ipython3",
   "version": "3.11.9"
  }
 },
 "nbformat": 4,
 "nbformat_minor": 5
}
